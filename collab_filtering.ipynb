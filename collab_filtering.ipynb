{
 "cells": [
  {
   "cell_type": "markdown",
   "metadata": {},
   "source": [
    "# Recommender system workbook"
   ]
  },
  {
   "cell_type": "markdown",
   "metadata": {},
   "source": [
    "# Environment + Setup"
   ]
  },
  {
   "cell_type": "code",
   "execution_count": 1,
   "metadata": {},
   "outputs": [],
   "source": [
    "import pandas as pd\n",
    "import numpy as np\n",
    "import matplotlib.pyplot as plt\n",
    "import itertools\n",
    "import time"
   ]
  },
  {
   "cell_type": "markdown",
   "metadata": {},
   "source": [
    "## Load Data"
   ]
  },
  {
   "cell_type": "code",
   "execution_count": 2,
   "metadata": {},
   "outputs": [],
   "source": [
    "# load Amazon Fashion ratings data\n",
    "ratings = pd.read_csv('data/AMAZON_FASHION.csv'\n",
    "                      , names=['item', 'user', 'rating', 'timestamp'])"
   ]
  },
  {
   "cell_type": "markdown",
   "metadata": {},
   "source": [
    "## Data Cleaning"
   ]
  },
  {
   "cell_type": "code",
   "execution_count": 3,
   "metadata": {},
   "outputs": [
    {
     "data": {
      "text/plain": [
       "item         False\n",
       "user         False\n",
       "rating       False\n",
       "timestamp    False\n",
       "dtype: bool"
      ]
     },
     "execution_count": 3,
     "metadata": {},
     "output_type": "execute_result"
    }
   ],
   "source": [
    "# check for any nulls\n",
    "ratings.isna().any()"
   ]
  },
  {
   "cell_type": "code",
   "execution_count": 4,
   "metadata": {
    "scrolled": true
   },
   "outputs": [
    {
     "data": {
      "text/html": [
       "<div>\n",
       "<style scoped>\n",
       "    .dataframe tbody tr th:only-of-type {\n",
       "        vertical-align: middle;\n",
       "    }\n",
       "\n",
       "    .dataframe tbody tr th {\n",
       "        vertical-align: top;\n",
       "    }\n",
       "\n",
       "    .dataframe thead th {\n",
       "        text-align: right;\n",
       "    }\n",
       "</style>\n",
       "<table border=\"1\" class=\"dataframe\">\n",
       "  <thead>\n",
       "    <tr style=\"text-align: right;\">\n",
       "      <th></th>\n",
       "      <th>item</th>\n",
       "      <th>user</th>\n",
       "      <th>rating</th>\n",
       "      <th>timestamp</th>\n",
       "    </tr>\n",
       "  </thead>\n",
       "  <tbody>\n",
       "  </tbody>\n",
       "</table>\n",
       "</div>"
      ],
      "text/plain": [
       "Empty DataFrame\n",
       "Columns: [item, user, rating, timestamp]\n",
       "Index: []"
      ]
     },
     "execution_count": 4,
     "metadata": {},
     "output_type": "execute_result"
    }
   ],
   "source": [
    "# check for any rating errors\n",
    "ratings[(ratings['rating'] < 1.0) | (ratings['rating'] > 5.0)]"
   ]
  },
  {
   "cell_type": "code",
   "execution_count": 5,
   "metadata": {},
   "outputs": [],
   "source": [
    "# some users have rated the same item multiple times\n",
    "# take most recent\n",
    "ind = ratings.sort_values(by='timestamp')\n",
    "ratings = ind.drop_duplicates(['user','item'], keep='last').reset_index(drop=True)"
   ]
  },
  {
   "cell_type": "code",
   "execution_count": 6,
   "metadata": {},
   "outputs": [],
   "source": [
    "# create dataset of only reviews of the top 50 most reviewed items\n",
    "top_50_items = ratings.groupby('item').count().sort_values('rating', ascending=False).head(50).index.values\n",
    "df_50_items = ratings[ratings['item'].isin(top_50_items)]"
   ]
  },
  {
   "cell_type": "code",
   "execution_count": 7,
   "metadata": {},
   "outputs": [],
   "source": [
    "# create dataset consisting of only ratings given by users who have given more than one rating\n",
    "x = df_50_items.user.value_counts()\n",
    "df = df_50_items[df_50_items['user'].isin(x.where(x>1).dropna().index.values)]"
   ]
  },
  {
   "cell_type": "markdown",
   "metadata": {},
   "source": [
    "# Exploratory Data Analysis"
   ]
  },
  {
   "cell_type": "code",
   "execution_count": 8,
   "metadata": {},
   "outputs": [
    {
     "data": {
      "text/html": [
       "<div>\n",
       "<style scoped>\n",
       "    .dataframe tbody tr th:only-of-type {\n",
       "        vertical-align: middle;\n",
       "    }\n",
       "\n",
       "    .dataframe tbody tr th {\n",
       "        vertical-align: top;\n",
       "    }\n",
       "\n",
       "    .dataframe thead th {\n",
       "        text-align: right;\n",
       "    }\n",
       "</style>\n",
       "<table border=\"1\" class=\"dataframe\">\n",
       "  <thead>\n",
       "    <tr style=\"text-align: right;\">\n",
       "      <th></th>\n",
       "      <th>item</th>\n",
       "      <th>user</th>\n",
       "      <th>rating</th>\n",
       "      <th>timestamp</th>\n",
       "    </tr>\n",
       "  </thead>\n",
       "  <tbody>\n",
       "    <tr>\n",
       "      <th>0</th>\n",
       "      <td>B000072XQQ</td>\n",
       "      <td>A2KAH6H1AZ644N</td>\n",
       "      <td>5.0</td>\n",
       "      <td>1036972800</td>\n",
       "    </tr>\n",
       "    <tr>\n",
       "      <th>1</th>\n",
       "      <td>B000073249</td>\n",
       "      <td>A1W8Q4CPGUI2Z0</td>\n",
       "      <td>2.0</td>\n",
       "      <td>1037232000</td>\n",
       "    </tr>\n",
       "    <tr>\n",
       "      <th>2</th>\n",
       "      <td>B00007325C</td>\n",
       "      <td>A1DZATB5VPS5LM</td>\n",
       "      <td>5.0</td>\n",
       "      <td>1038268800</td>\n",
       "    </tr>\n",
       "    <tr>\n",
       "      <th>3</th>\n",
       "      <td>B00007CWBQ</td>\n",
       "      <td>A20AA4JTZHF6GH</td>\n",
       "      <td>4.0</td>\n",
       "      <td>1039564800</td>\n",
       "    </tr>\n",
       "    <tr>\n",
       "      <th>4</th>\n",
       "      <td>B0000731RO</td>\n",
       "      <td>A16IAHAW5FI0G1</td>\n",
       "      <td>5.0</td>\n",
       "      <td>1040860800</td>\n",
       "    </tr>\n",
       "  </tbody>\n",
       "</table>\n",
       "</div>"
      ],
      "text/plain": [
       "         item            user  rating   timestamp\n",
       "0  B000072XQQ  A2KAH6H1AZ644N     5.0  1036972800\n",
       "1  B000073249  A1W8Q4CPGUI2Z0     2.0  1037232000\n",
       "2  B00007325C  A1DZATB5VPS5LM     5.0  1038268800\n",
       "3  B00007CWBQ  A20AA4JTZHF6GH     4.0  1039564800\n",
       "4  B0000731RO  A16IAHAW5FI0G1     5.0  1040860800"
      ]
     },
     "execution_count": 8,
     "metadata": {},
     "output_type": "execute_result"
    }
   ],
   "source": [
    "# peek at the data\n",
    "ratings.head()"
   ]
  },
  {
   "cell_type": "code",
   "execution_count": 9,
   "metadata": {},
   "outputs": [
    {
     "data": {
      "text/plain": [
       "(875121, 4)"
      ]
     },
     "execution_count": 9,
     "metadata": {},
     "output_type": "execute_result"
    }
   ],
   "source": [
    "# num rows, num cols\n",
    "ratings.shape"
   ]
  },
  {
   "cell_type": "code",
   "execution_count": 10,
   "metadata": {},
   "outputs": [
    {
     "data": {
      "text/plain": [
       "186189"
      ]
     },
     "execution_count": 10,
     "metadata": {},
     "output_type": "execute_result"
    }
   ],
   "source": [
    "ratings.item.nunique()"
   ]
  },
  {
   "cell_type": "code",
   "execution_count": 11,
   "metadata": {},
   "outputs": [
    {
     "data": {
      "text/plain": [
       "749233"
      ]
     },
     "execution_count": 11,
     "metadata": {},
     "output_type": "execute_result"
    }
   ],
   "source": [
    "ratings.user.nunique()"
   ]
  },
  {
   "cell_type": "code",
   "execution_count": 12,
   "metadata": {},
   "outputs": [
    {
     "data": {
      "text/plain": [
       "1.1680224976742883"
      ]
     },
     "execution_count": 12,
     "metadata": {},
     "output_type": "execute_result"
    }
   ],
   "source": [
    "ratings.user.value_counts().mean()"
   ]
  },
  {
   "cell_type": "code",
   "execution_count": 13,
   "metadata": {},
   "outputs": [
    {
     "data": {
      "text/plain": [
       "40"
      ]
     },
     "execution_count": 13,
     "metadata": {},
     "output_type": "execute_result"
    }
   ],
   "source": [
    "ratings.user.value_counts().max()"
   ]
  },
  {
   "cell_type": "code",
   "execution_count": 14,
   "metadata": {},
   "outputs": [
    {
     "data": {
      "text/plain": [
       "4.700175627990912"
      ]
     },
     "execution_count": 14,
     "metadata": {},
     "output_type": "execute_result"
    }
   ],
   "source": [
    "ratings.item.value_counts().mean()"
   ]
  },
  {
   "cell_type": "code",
   "execution_count": 15,
   "metadata": {},
   "outputs": [
    {
     "data": {
      "text/plain": [
       "4341"
      ]
     },
     "execution_count": 15,
     "metadata": {},
     "output_type": "execute_result"
    }
   ],
   "source": [
    "ratings.item.value_counts().max()"
   ]
  },
  {
   "cell_type": "markdown",
   "metadata": {},
   "source": [
    "The dataset consists of 875,121 ratings given by 749,233 users across 186,189 items. Each user gives an average of 1.17 ratings, with a maximum of 40 ratings given by one user. Each item has an average of 4.70 ratings, with a maximum of 4,341 ratings for one item. In this case, the ratings matrix would be a 749,233 x 186,189 matrix, of which only 0.0006% would be nonempty."
   ]
  },
  {
   "cell_type": "code",
   "execution_count": 16,
   "metadata": {},
   "outputs": [
    {
     "data": {
      "image/png": "[encoded data removed]",
      "text/plain": [
       "<Figure size 576x360 with 1 Axes>"
      ]
     },
     "metadata": {
      "needs_background": "light"
     },
     "output_type": "display_data"
    }
   ],
   "source": [
    "plt.figure(figsize=(8,5))\n",
    "plt.bar(x=['1 star', '2 stars', '3 stars', '4 stars', '5 stars'],\n",
    "        height=ratings.rating.value_counts().sort_index(),\n",
    "        color=['#f0f0f0','#e1e1e1','#c8c8c8','#afafaf','#999999'])\n",
    "plt.xlabel('Item Rating')\n",
    "plt.ylabel('Rating Count')\n",
    "plt.title('Bar Plot of Ratings Distribution')\n",
    "plt.show()"
   ]
  },
  {
   "cell_type": "markdown",
   "metadata": {},
   "source": [
    "# Item-Based"
   ]
  },
  {
   "cell_type": "code",
   "execution_count": 217,
   "metadata": {},
   "outputs": [],
   "source": [
    "class ItemBased(object):\n",
    "    \"\"\"\n",
    "    Class to implement an item-based recommender system. To use, initialize, run fit(), then predict_rating().\n",
    "    \"\"\"\n",
    "\n",
    "    def __init__(self, df, c=10):\n",
    "        \"\"\"\n",
    "        Constructs necessary parameters for ItemBased object.\n",
    "        :param df: dataframe; must have \"item\", \"rating\", and \"user\" columns\n",
    "        :param c: neighborhood size to use in predicting rating; default 10\n",
    "        \"\"\"\n",
    "        self.df = df\n",
    "        self.c = c\n",
    "\n",
    "    def fit(self):\n",
    "        \"\"\"\n",
    "        \"fits\" system by computing every pearson correlation between every pair of items\n",
    "        :return:\n",
    "        \"\"\"\n",
    "        # measure fitting time\n",
    "        start = time.process_time()\n",
    "        # create list of all pairs of items\n",
    "        print(\"Creating pairs of items...\")\n",
    "        ijs = list(set(itertools.combinations(self.df.item.values, 2)))\n",
    "        # create dictionary of all pearson correlations between items\n",
    "        rho_dict = dict.fromkeys(ijs)\n",
    "        # compute every pearson correlation\n",
    "        print(\"Computing Pearson correlations...\")\n",
    "        for key in rho_dict:\n",
    "            rho_dict[key] = self.pearson_correlation(key[0], key[1])\n",
    "        self.rho_dict = rho_dict\n",
    "        print(\"Done fitting in {s} seconds\".format(s=time.process_time() - start))\n",
    "\n",
    "    def predict_rating(self, i, u):\n",
    "        \"\"\"\n",
    "        computes predicted rating for a new item i and user u.\n",
    "        :param i: string, new item name\n",
    "        :param u: string, user name\n",
    "        :return: weighted average predicted rating\n",
    "        \"\"\"\n",
    "        # get neighborhood of most similar items to i\n",
    "        print(\"Finding top {c} most similar items to {item}\".format(c=self.c, item=i))\n",
    "        K_i = self.find_neighborhood(u, i)\n",
    "        # compute predicted rating for new item i by user u\n",
    "        num = 0\n",
    "        denom = 0\n",
    "        print(\"Computing prediction...\")\n",
    "        for k in K_i:\n",
    "            # find the rating that user u gave to item k\n",
    "            y_uk = self.df.loc[(self.df['item'] == k) & (self.df['user'] == u), 'rating'].values[0]\n",
    "            # get correlation between i and k\n",
    "            rho_ik = K_i[k]\n",
    "            # add rating * weight of similarity\n",
    "            num += y_uk * rho_ik\n",
    "            # sum up weights\n",
    "            denom += abs(rho_ik)\n",
    "        # compute y-hat\n",
    "        yhat_ui = num / denom\n",
    "        return yhat_ui\n",
    "\n",
    "    def pearson_correlation(self, i, j):\n",
    "        \"\"\"\n",
    "        function to compute the Pearson Correlation between two items in a dataset\n",
    "        :param i: string, item name\n",
    "        :param j: string, item name\n",
    "        :return: pearson correlation btwn i and j\n",
    "        \"\"\"\n",
    "        # find ratings for each item\n",
    "        df_i = self.df.loc[self.df['item'] == i]\n",
    "        df_j = self.df.loc[self.df['item'] == j]\n",
    "        # create set of all users who have rated both items i and j\n",
    "        U_ij = pd.merge(df_i, df_j, how='inner', on='user').user.values\n",
    "        # check if set is empty\n",
    "        if U_ij.size == 0:\n",
    "            return 0\n",
    "        # initialize numerator and denominator sums of pearson correlation\n",
    "        num = 0\n",
    "        denom_i = 0\n",
    "        denom_j = 0\n",
    "        # for every user in U_ij\n",
    "        for u in U_ij:\n",
    "            # find rating on item i given by user u\n",
    "            y_ui = self.df.loc[(self.df['item'] == i) & (self.df['user'] == u), 'rating'].values[0]\n",
    "            # find item i's average rating across all users\n",
    "            ybar_i = self.df.loc[self.df['item'] == i, 'rating'].mean()\n",
    "            # find rating on item j given by user u\n",
    "            y_uj = self.df.loc[(self.df['item'] == j) & (self.df['user'] == u), 'rating'].values[0]\n",
    "            # find item j's average rating across all users\n",
    "            ybar_j = self.df.loc[self.df['item'] == j, 'rating'].mean()\n",
    "            # accumulate numerator and denominator\n",
    "            num += (y_ui - ybar_i) * (y_uj - ybar_j)\n",
    "            denom_i += (y_ui - ybar_i) ** 2\n",
    "            denom_j += (y_uj - ybar_j) ** 2\n",
    "        # compute pearson correlation\n",
    "        # add an error buffer to prevent divide by zero\n",
    "        # i.e. if |U_ij|=1 and y_ui=y_uj, then rho_ij=1\n",
    "        rho_ij = (num + 10e-6) / (np.sqrt(denom_i) * np.sqrt(denom_j) + 10e-6)\n",
    "        return rho_ij\n",
    "\n",
    "    def find_neighborhood(self, u, i):\n",
    "        \"\"\"\n",
    "        finds a size c neighborhood of the most similar items to item i\n",
    "        :param i: item string name\n",
    "        :return: dict of 10 highest item pair correlations involving i\n",
    "        \"\"\"\n",
    "        # create dict of correlations with i - looks like {(i, j): rho}\n",
    "        rho_i = {key: value for (key, value) in self.rho_dict.items() if i in key}\n",
    "        # sort the correlations in descending order, and make it a dictionary\n",
    "        rho_i_sorted = {k: v for k, v in sorted(rho_i.items(), key=lambda item: item[1], reverse=True)}\n",
    "        # get items that user u has rated\n",
    "        items_user_rated = self.df.loc[self.df['user'] == u].item.values\n",
    "        # find items that user u has rated in sorted correlation dict, get top 10 (if there even are 10)\n",
    "        K_i = {x:rho_i_sorted[(x,i)] for x in items_user_rated[:self.c]}# for v in rho_i_sorted.values()}\n",
    "        # return neighborhood\n",
    "        return K_i"
   ]
  },
  {
   "cell_type": "code",
   "execution_count": 218,
   "metadata": {},
   "outputs": [],
   "source": [
    "item_based_sys = ItemBased(df)"
   ]
  },
  {
   "cell_type": "code",
   "execution_count": 219,
   "metadata": {},
   "outputs": [
    {
     "name": "stdout",
     "output_type": "stream",
     "text": [
      "Creating pairs of items...\n",
      "Computing Pearson correlations...\n",
      "Done fitting in 283.05798400000003 seconds\n"
     ]
    }
   ],
   "source": [
    "item_based_sys.fit()"
   ]
  },
  {
   "cell_type": "code",
   "execution_count": 270,
   "metadata": {},
   "outputs": [
    {
     "name": "stdout",
     "output_type": "stream",
     "text": [
      "Finding top 10 most similar items to B000V0IBDM\n",
      "Computing prediction...\n"
     ]
    },
    {
     "data": {
      "text/plain": [
       "-4.0"
      ]
     },
     "execution_count": 270,
     "metadata": {},
     "output_type": "execute_result"
    }
   ],
   "source": [
    "item_based_sys.predict_rating(i='B000V0IBDM', u='A2ZN3Z5U9TV4C')"
   ]
  },
  {
   "cell_type": "markdown",
   "metadata": {},
   "source": [
    "# User-Based"
   ]
  },
  {
   "cell_type": "code",
   "execution_count": null,
   "metadata": {},
   "outputs": [],
   "source": [
    "class UserBased:\n",
    "    \"\"\"\n",
    "    Class to implement a user-based recommender system. To use, initialize, run fit(), then predict_rating().\n",
    "    \"\"\"\n",
    "\n",
    "    def __init__(self, df, c=10):\n",
    "        \"\"\"\n",
    "        Constructs necessary parameters for UserBased object.\n",
    "        :param df: dataframe; must have \"item\", \"rating\", and \"user\" columns\n",
    "        :param c: neighborhood size to use in predicting rating; default 10\n",
    "        \"\"\"\n",
    "        self.df = df\n",
    "        self.c = c\n",
    "\n",
    "    def fit(self):\n",
    "        \"\"\"\n",
    "        \"fits\" system by computing every pearson correlation between every pair of users\n",
    "        :return:\n",
    "        \"\"\"\n",
    "        # measure fitting time\n",
    "        start = time.process_time()\n",
    "        # create list of all pairs of users\n",
    "        uvs = list(itertools.combinations(self.df.item.values, 2))\n",
    "        # initialize dictionary of all pearson correlations between users\n",
    "        rho_dict = dict.fromkeys(uvs)\n",
    "        # compute every pearson correlation\n",
    "        for key in rho_dict:\n",
    "            rho_dict[key] = self.pearson_correlation(key[0], key[1])\n",
    "        self.rho_dict = rho_dict\n",
    "        print(\"Done fitting in {s} seconds\".format(s=time.process_time() - start))\n",
    "\n",
    "    def predict_rating(self, u, i):\n",
    "        \"\"\"\n",
    "        computes predicted rating for a new item i and user u.\n",
    "        :param u: string, user name\n",
    "        :param i: string, new item name\n",
    "        :return: weighted average variation predicted rating\n",
    "        \"\"\"\n",
    "        # get neighborhood of most similar users to u, who have rated item i\n",
    "        W_u = self.find_neighborhood(u, i)\n",
    "        # compute predicted rating for new item i by user u\n",
    "        # first get average rating by user u across all items\n",
    "        ybar_u = self.df.loc[self.df['user'] == u, 'rating'].mean()\n",
    "        # initialize num/denom of rating\n",
    "        num = 0\n",
    "        denom = 0\n",
    "        # for each user in u's neighborhood\n",
    "        for w in W_u:\n",
    "            # get user w's average rating\n",
    "            ybar_w = self.df.loc[self.df['user'] == w, 'rating'].mean()\n",
    "            # get user w's rating on i\n",
    "            y_wi = self.df.loc[(self.df['item'] == i) & (self.df['user'] == w), 'rating'].values[0]\n",
    "            # get correlation\n",
    "            rho_uw = W_u[(u, w)]\n",
    "            num += (y_wi - ybar_w) * rho_uw\n",
    "            denom += rho_uw\n",
    "        # compute y-hat\n",
    "        yhat_ui = ybar_u + num / denom\n",
    "        return yhat_ui\n",
    "\n",
    "    def pearson_correlation(self, u, v):\n",
    "        \"\"\"\n",
    "        function to compute the Pearson Correlation between two users in a dataset\n",
    "        :param u: string, user name\n",
    "        :param v: string, user name\n",
    "        :return: pearson correlation btwn u and v\n",
    "        \"\"\"\n",
    "        # find ratings for each item\n",
    "        df_u = self.df.loc[self.df['user'] == u]\n",
    "        df_v = self.df.loc[self.df['user'] == v]\n",
    "        # create set of all items that both users u and v have rated\n",
    "        I_uv = pd.merge(df_u, df_v, how='inner', on='item').item.values\n",
    "        # initialize numerator and denominator sums of pearson correlation\n",
    "        num = 0\n",
    "        denom_u = 0\n",
    "        denom_v = 0\n",
    "        # for every item in I_uv\n",
    "        for i in I_uv:\n",
    "            # find rating on item i given by user u\n",
    "            y_ui = self.df.loc[(self.df['item'] == i) & (self.df['user'] == u), 'rating'].values[0]\n",
    "            # find user u's average rating across all items\n",
    "            ybar_u = self.df.loc[self.df['user'] == u, 'rating'].mean()\n",
    "            # find rating on item i given by user v\n",
    "            y_vi = self.df.loc[(self.df['item'] == i) & (self.df['user'] == u), 'rating'].values[0]\n",
    "            # find user v's average rating across all items\n",
    "            ybar_v = self.df.loc[self.df['user'] == v, 'rating'].mean()\n",
    "            # accumulate numerator and denominator\n",
    "            num += (y_ui - ybar_u) * (y_vi - ybar_v)\n",
    "            denom_u += (y_ui - ybar_u) ** 2\n",
    "            denom_v += (y_vi - ybar_v) ** 2\n",
    "        # compute pearson correlation\n",
    "        rho_uv = num / (np.sqrt(denom_u) * np.sqrt(denom_v))\n",
    "        return rho_uv\n",
    "\n",
    "    def find_neighborhood(self, u, i):\n",
    "        \"\"\"\n",
    "        finds a size c neighborhood of the most similar users to user u. the users must also have rated item i.\n",
    "        :param u: target user name string\n",
    "        :param i: item name string\n",
    "        :return: dict of 10 highest user pair correlations involving u\n",
    "        \"\"\"\n",
    "        # create dict of correlations with u - looks like {(u, v): rho}\n",
    "        rho_u = {key: value for (key, value) in self.rho_dict.items() if u in key}\n",
    "        # sort the correlations in descending order, and make it a dictionary\n",
    "        rho_u_sorted = {k: v for k, v in sorted(rho_u.items(), key=lambda item: item[1], reverse=True)}\n",
    "        # get users that rated item i\n",
    "        users_rated_i = self.df.loc[self.df['item'] == i].user.values\n",
    "        # find users that rated i in sorted correlation dict, get top 10 (if there even are 10)\n",
    "        W_u = {x: rho_u_sorted[(x, u)] for x in users_rated_i[:self.c]}  # for v in rho_i_sorted.values()}\n",
    "        # return neighborhood\n",
    "        return W_u\n"
   ]
  },
  {
   "cell_type": "markdown",
   "metadata": {},
   "source": [
    "# Model-Based"
   ]
  },
  {
   "cell_type": "code",
   "execution_count": 250,
   "metadata": {},
   "outputs": [],
   "source": [
    "class NaiveBayes:\n",
    "    \"\"\"\n",
    "    Class to implement model-based filtering using a Naive Bayes classifier.\n",
    "    \"\"\"\n",
    "\n",
    "    def __init__(self, df):\n",
    "        \"\"\"\n",
    "        Constructs necessary parameters for Naive Bayes classifier.\n",
    "        :param df: dataframe; must have \"item\", \"rating\", and \"user\" columns\n",
    "        \"\"\"\n",
    "        self.df = df\n",
    "\n",
    "    def predict_rating(self, u, i):\n",
    "        \"\"\"\n",
    "        computes predicted rating for a new item i and user u.\n",
    "        :param u: string, user name\n",
    "        :param i: string, new item name\n",
    "        :return: weighted average variation predicted rating\n",
    "        \"\"\"\n",
    "        priors = self.compute_prior(i)\n",
    "        probs = self.compute_cond_prob(u, i)\n",
    "        predicted_probs = np.dot(priors, probs)\n",
    "        yhat_ui = np.argmax(predicted_probs) + 1\n",
    "        return yhat_ui\n",
    "\n",
    "    def compute_prior(self, i):\n",
    "        \"\"\"\n",
    "        computes prior probability vector\n",
    "        :param i: item name, string\n",
    "        :return: prior probability vector\n",
    "        \"\"\"\n",
    "        prior_vector = np.zeros(5)\n",
    "        for rating in range(1, 6):\n",
    "            rating_counts = self.df.loc[self.df['item'] == i].groupby('rating').count()\n",
    "            num_ratings = rating_counts.loc[rating][0]\n",
    "            num_total_ratings = rating_counts.sum()[0]\n",
    "            prior_vector[rating - 1] = num_ratings / num_total_ratings\n",
    "        return prior_vector\n",
    "\n",
    "    def compute_cond_prob(self, u, i):\n",
    "        \"\"\"\n",
    "        calculates conditional probability of user u's ratings vector given\n",
    "        :param u: string, user name\n",
    "        :param i: string, new item name\n",
    "        :return: conditional probability vector\n",
    "        \"\"\"\n",
    "        I_u = self.df.loc[self.df['user'] == u].item.values\n",
    "        prob_vector = np.ones(5)\n",
    "        for rating in range(1, 6):\n",
    "            users_rated_i = self.df.loc[(self.df['item'] == i) & (self.df['rating'] == rating)]\n",
    "            for j in I_u:\n",
    "                users_rated_j_and_i = pd.merge(self.df.loc[self.df['item'] == j], users_rated_i, how='inner', on='user')\n",
    "                prob_vector[rating - 1] *= users_rated_j_and_i.user.nunique() / users_rated_i.user.nunique()\n",
    "        return prob_vector\n"
   ]
  },
  {
   "cell_type": "code",
   "execution_count": 251,
   "metadata": {},
   "outputs": [],
   "source": [
    "model_based_sys = NaiveBayes(df)"
   ]
  },
  {
   "cell_type": "code",
   "execution_count": 253,
   "metadata": {},
   "outputs": [
    {
     "data": {
      "text/plain": [
       "1"
      ]
     },
     "execution_count": 253,
     "metadata": {},
     "output_type": "execute_result"
    }
   ],
   "source": [
    "model_based_sys.predict_rating(u='A1EJXPJ9X4YRYB', i='B000V0IBDM')"
   ]
  },
  {
   "cell_type": "code",
   "execution_count": null,
   "metadata": {},
   "outputs": [],
   "source": []
  }
 ],
 "metadata": {
  "kernelspec": {
   "display_name": "Python 3",
   "language": "python",
   "name": "python3"
  },
  "language_info": {
   "codemirror_mode": {
    "name": "ipython",
    "version": 3
   },
   "file_extension": ".py",
   "mimetype": "text/x-python",
   "name": "python",
   "nbconvert_exporter": "python",
   "pygments_lexer": "ipython3",
   "version": "3.9.1"
  }
 },
 "nbformat": 4,
 "nbformat_minor": 2
}
