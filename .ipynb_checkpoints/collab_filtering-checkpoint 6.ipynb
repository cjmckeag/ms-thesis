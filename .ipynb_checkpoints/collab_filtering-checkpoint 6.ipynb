{
 "cells": [
  {
   "cell_type": "markdown",
   "metadata": {},
   "source": [
    "# Environment + Setup"
   ]
  },
  {
   "cell_type": "code",
   "execution_count": 1,
   "metadata": {},
   "outputs": [],
   "source": [
    "import pandas as pd\n",
    "import numpy as np\n",
    "import matplotlib.pyplot as plt\n",
    "import itertools"
   ]
  },
  {
   "cell_type": "markdown",
   "metadata": {},
   "source": [
    "## Load Data"
   ]
  },
  {
   "cell_type": "code",
   "execution_count": 2,
   "metadata": {},
   "outputs": [],
   "source": [
    "# load Amazon Fashion ratings data\n",
    "ratings = pd.read_csv('data/AMAZON_FASHION.csv'\n",
    "                      , names=['item', 'user', 'rating', 'timestamp'])"
   ]
  },
  {
   "cell_type": "markdown",
   "metadata": {},
   "source": [
    "## Data Cleaning"
   ]
  },
  {
   "cell_type": "code",
   "execution_count": 3,
   "metadata": {},
   "outputs": [
    {
     "data": {
      "text/plain": [
       "item         False\n",
       "user         False\n",
       "rating       False\n",
       "timestamp    False\n",
       "dtype: bool"
      ]
     },
     "execution_count": 3,
     "metadata": {},
     "output_type": "execute_result"
    }
   ],
   "source": [
    "# check for any nulls\n",
    "ratings.isna().any()"
   ]
  },
  {
   "cell_type": "code",
   "execution_count": 4,
   "metadata": {
    "scrolled": true
   },
   "outputs": [
    {
     "data": {
      "text/html": [
       "<div>\n",
       "<style scoped>\n",
       "    .dataframe tbody tr th:only-of-type {\n",
       "        vertical-align: middle;\n",
       "    }\n",
       "\n",
       "    .dataframe tbody tr th {\n",
       "        vertical-align: top;\n",
       "    }\n",
       "\n",
       "    .dataframe thead th {\n",
       "        text-align: right;\n",
       "    }\n",
       "</style>\n",
       "<table border=\"1\" class=\"dataframe\">\n",
       "  <thead>\n",
       "    <tr style=\"text-align: right;\">\n",
       "      <th></th>\n",
       "      <th>item</th>\n",
       "      <th>user</th>\n",
       "      <th>rating</th>\n",
       "      <th>timestamp</th>\n",
       "    </tr>\n",
       "  </thead>\n",
       "  <tbody>\n",
       "  </tbody>\n",
       "</table>\n",
       "</div>"
      ],
      "text/plain": [
       "Empty DataFrame\n",
       "Columns: [item, user, rating, timestamp]\n",
       "Index: []"
      ]
     },
     "execution_count": 4,
     "metadata": {},
     "output_type": "execute_result"
    }
   ],
   "source": [
    "# check for any rating errors\n",
    "ratings[(ratings['rating'] < 1.0) | (ratings['rating'] > 5.0)]"
   ]
  },
  {
   "cell_type": "code",
   "execution_count": 5,
   "metadata": {},
   "outputs": [],
   "source": [
    "# some users have rated the same item multiple times\n",
    "# take most recent\n",
    "ind = ratings.sort_values(by='timestamp')\n",
    "ratings = ind.drop_duplicates(['user','item'], keep='last').reset_index(drop=True)"
   ]
  },
  {
   "cell_type": "code",
   "execution_count": 6,
   "metadata": {},
   "outputs": [],
   "source": [
    "# create dataset consisting of only ratings given by users who have given more than one rating\n",
    "x = ratings.user.value_counts()\n",
    "df_item = ratings[ratings['user'].isin(x.where(x>1).dropna().index.values)]"
   ]
  },
  {
   "cell_type": "markdown",
   "metadata": {},
   "source": [
    "# Exploratory Data Analysis"
   ]
  },
  {
   "cell_type": "code",
   "execution_count": 7,
   "metadata": {},
   "outputs": [
    {
     "data": {
      "text/html": [
       "<div>\n",
       "<style scoped>\n",
       "    .dataframe tbody tr th:only-of-type {\n",
       "        vertical-align: middle;\n",
       "    }\n",
       "\n",
       "    .dataframe tbody tr th {\n",
       "        vertical-align: top;\n",
       "    }\n",
       "\n",
       "    .dataframe thead th {\n",
       "        text-align: right;\n",
       "    }\n",
       "</style>\n",
       "<table border=\"1\" class=\"dataframe\">\n",
       "  <thead>\n",
       "    <tr style=\"text-align: right;\">\n",
       "      <th></th>\n",
       "      <th>item</th>\n",
       "      <th>user</th>\n",
       "      <th>rating</th>\n",
       "      <th>timestamp</th>\n",
       "    </tr>\n",
       "  </thead>\n",
       "  <tbody>\n",
       "    <tr>\n",
       "      <th>0</th>\n",
       "      <td>B000072XQQ</td>\n",
       "      <td>A2KAH6H1AZ644N</td>\n",
       "      <td>5.0</td>\n",
       "      <td>1036972800</td>\n",
       "    </tr>\n",
       "    <tr>\n",
       "      <th>1</th>\n",
       "      <td>B000073249</td>\n",
       "      <td>A1W8Q4CPGUI2Z0</td>\n",
       "      <td>2.0</td>\n",
       "      <td>1037232000</td>\n",
       "    </tr>\n",
       "    <tr>\n",
       "      <th>2</th>\n",
       "      <td>B00007325C</td>\n",
       "      <td>A1DZATB5VPS5LM</td>\n",
       "      <td>5.0</td>\n",
       "      <td>1038268800</td>\n",
       "    </tr>\n",
       "    <tr>\n",
       "      <th>3</th>\n",
       "      <td>B00007CWBQ</td>\n",
       "      <td>A20AA4JTZHF6GH</td>\n",
       "      <td>4.0</td>\n",
       "      <td>1039564800</td>\n",
       "    </tr>\n",
       "    <tr>\n",
       "      <th>4</th>\n",
       "      <td>B0000731RO</td>\n",
       "      <td>A16IAHAW5FI0G1</td>\n",
       "      <td>5.0</td>\n",
       "      <td>1040860800</td>\n",
       "    </tr>\n",
       "  </tbody>\n",
       "</table>\n",
       "</div>"
      ],
      "text/plain": [
       "         item            user  rating   timestamp\n",
       "0  B000072XQQ  A2KAH6H1AZ644N     5.0  1036972800\n",
       "1  B000073249  A1W8Q4CPGUI2Z0     2.0  1037232000\n",
       "2  B00007325C  A1DZATB5VPS5LM     5.0  1038268800\n",
       "3  B00007CWBQ  A20AA4JTZHF6GH     4.0  1039564800\n",
       "4  B0000731RO  A16IAHAW5FI0G1     5.0  1040860800"
      ]
     },
     "execution_count": 7,
     "metadata": {},
     "output_type": "execute_result"
    }
   ],
   "source": [
    "# peek at the data\n",
    "ratings.head()"
   ]
  },
  {
   "cell_type": "code",
   "execution_count": 8,
   "metadata": {},
   "outputs": [
    {
     "data": {
      "text/plain": [
       "(875121, 4)"
      ]
     },
     "execution_count": 8,
     "metadata": {},
     "output_type": "execute_result"
    }
   ],
   "source": [
    "# num rows, num cols\n",
    "ratings.shape"
   ]
  },
  {
   "cell_type": "code",
   "execution_count": 9,
   "metadata": {},
   "outputs": [
    {
     "data": {
      "text/plain": [
       "186189"
      ]
     },
     "execution_count": 9,
     "metadata": {},
     "output_type": "execute_result"
    }
   ],
   "source": [
    "ratings.item.nunique()"
   ]
  },
  {
   "cell_type": "code",
   "execution_count": 10,
   "metadata": {},
   "outputs": [
    {
     "data": {
      "text/plain": [
       "749233"
      ]
     },
     "execution_count": 10,
     "metadata": {},
     "output_type": "execute_result"
    }
   ],
   "source": [
    "ratings.user.nunique()"
   ]
  },
  {
   "cell_type": "code",
   "execution_count": 11,
   "metadata": {},
   "outputs": [
    {
     "data": {
      "text/plain": [
       "1.1680224976742883"
      ]
     },
     "execution_count": 11,
     "metadata": {},
     "output_type": "execute_result"
    }
   ],
   "source": [
    "ratings.user.value_counts().mean()"
   ]
  },
  {
   "cell_type": "code",
   "execution_count": 12,
   "metadata": {},
   "outputs": [
    {
     "data": {
      "text/plain": [
       "40"
      ]
     },
     "execution_count": 12,
     "metadata": {},
     "output_type": "execute_result"
    }
   ],
   "source": [
    "ratings.user.value_counts().max()"
   ]
  },
  {
   "cell_type": "code",
   "execution_count": 13,
   "metadata": {},
   "outputs": [
    {
     "data": {
      "text/plain": [
       "4.700175627990912"
      ]
     },
     "execution_count": 13,
     "metadata": {},
     "output_type": "execute_result"
    }
   ],
   "source": [
    "ratings.item.value_counts().mean()"
   ]
  },
  {
   "cell_type": "code",
   "execution_count": 14,
   "metadata": {},
   "outputs": [
    {
     "data": {
      "text/plain": [
       "4341"
      ]
     },
     "execution_count": 14,
     "metadata": {},
     "output_type": "execute_result"
    }
   ],
   "source": [
    "ratings.item.value_counts().max()"
   ]
  },
  {
   "cell_type": "markdown",
   "metadata": {},
   "source": [
    "The dataset consists of 875,121 ratings given by 749,233 users across 186,189 items. Each user gives an average of 1.17 ratings, with a maximum of 40 ratings given by one user. Each item has an average of 4.70 ratings, with a maximum of 4,341 ratings for one item. In this case, the ratings matrix would be a 749,233 x 186,189 matrix, of which only 0.0006% would be nonempty."
   ]
  },
  {
   "cell_type": "code",
   "execution_count": 15,
   "metadata": {},
   "outputs": [
    {
     "data": {
      "image/png": "[encoded data removed]",
      "text/plain": [
       "<Figure size 576x360 with 1 Axes>"
      ]
     },
     "metadata": {
      "needs_background": "light"
     },
     "output_type": "display_data"
    }
   ],
   "source": [
    "plt.figure(figsize=(8,5))\n",
    "plt.bar(x=['1 star', '2 stars', '3 stars', '4 stars', '5 stars'],\n",
    "        height=ratings.rating.value_counts().sort_index(),\n",
    "        color=['#f0f0f0','#e1e1e1','#c8c8c8','#afafaf','#999999'])\n",
    "plt.xlabel('Item Rating')\n",
    "plt.ylabel('Rating Count')\n",
    "plt.title('Bar Plot of Ratings Distribution')\n",
    "plt.show()"
   ]
  },
  {
   "cell_type": "markdown",
   "metadata": {},
   "source": [
    "# Item-Based"
   ]
  },
  {
   "cell_type": "code",
   "execution_count": 16,
   "metadata": {},
   "outputs": [],
   "source": [
    "# function to compute the Pearson Correlation between two items in a dataset\n",
    "def pearsonCorrelation(i, j, df):\n",
    "    df_i = df.loc[df['item']==i]\n",
    "    df_j = df.loc[df['item']==j]\n",
    "    U_ij = pd.merge(df_i, df_j, how='inner', on='user').user.values\n",
    "    num = 0\n",
    "    denom_i = 0\n",
    "    denom_j = 0\n",
    "    for u in U_ij:\n",
    "        y_ui = df.loc[(df['item']==i) & (df['user']==u), 'rating']\n",
    "        ybar_i = df.loc[df['item']==i, 'rating'].mean()\n",
    "        y_uj = df.loc[(df['item']==j) & (df['user']==u), 'rating']\n",
    "        ybar_j = df.loc[df['item']==j, 'rating'].mean()\n",
    "        num += (y_ui - ybar_i) * (y_uj - ybar_j)\n",
    "        denom_i += (y_ui - ybar_i)**2\n",
    "        denom_j += (y_uj - ybar_j)**2\n",
    "    rho_ij = num / (np.sqrt(denom_i) * np.sqrt(denom_j))\n",
    "    return rho_ij"
   ]
  },
  {
   "cell_type": "code",
   "execution_count": 18,
   "metadata": {},
   "outputs": [
    {
     "data": {
      "text/plain": [
       "29        B0000733S9\n",
       "53        B0001PNF5G\n",
       "79        B0000WWTHU\n",
       "114       B0001Y50WS\n",
       "116       B0007WPZBK\n",
       "             ...    \n",
       "875042    B01DTQALBO\n",
       "875043    B01HAM1U7C\n",
       "875061    B01DPGKDPC\n",
       "875106    B01FFU42X0\n",
       "875109    B01FF98E44\n",
       "Name: item, Length: 215930, dtype: object"
      ]
     },
     "execution_count": 18,
     "metadata": {},
     "output_type": "execute_result"
    }
   ],
   "source": [
    "df_item.item"
   ]
  },
  {
   "cell_type": "code",
   "execution_count": 19,
   "metadata": {},
   "outputs": [
    {
     "name": "stderr",
     "output_type": "stream",
     "text": [
      "<ipython-input-16-79aed04c158a>:16: RuntimeWarning: invalid value encountered in double_scalars\n",
      "  rho_ij = num / (np.sqrt(denom_i) * np.sqrt(denom_j))\n"
     ]
    },
    {
     "data": {
      "text/plain": [
       "nan"
      ]
     },
     "execution_count": 19,
     "metadata": {},
     "output_type": "execute_result"
    }
   ],
   "source": [
    "pearsonCorrelation('B01DTQALBO','B01HAM1U7C',df_item)"
   ]
  },
  {
   "cell_type": "code",
   "execution_count": null,
   "metadata": {},
   "outputs": [],
   "source": [
    "list(itertools.combinations(df_item.item.values, 2))"
   ]
  },
  {
   "cell_type": "markdown",
   "metadata": {},
   "source": [
    "# User-Based"
   ]
  },
  {
   "cell_type": "code",
   "execution_count": null,
   "metadata": {},
   "outputs": [],
   "source": []
  },
  {
   "cell_type": "markdown",
   "metadata": {},
   "source": [
    "# Model-Based"
   ]
  },
  {
   "cell_type": "code",
   "execution_count": null,
   "metadata": {},
   "outputs": [],
   "source": []
  }
 ],
 "metadata": {
  "kernelspec": {
   "display_name": "Python 3",
   "language": "python",
   "name": "python3"
  },
  "language_info": {
   "codemirror_mode": {
    "name": "ipython",
    "version": 3
   },
   "file_extension": ".py",
   "mimetype": "text/x-python",
   "name": "python",
   "nbconvert_exporter": "python",
   "pygments_lexer": "ipython3",
   "version": "3.9.1"
  }
 },
 "nbformat": 4,
 "nbformat_minor": 2
}
